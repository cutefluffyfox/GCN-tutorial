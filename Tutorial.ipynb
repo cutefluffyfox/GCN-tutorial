{
 "cells": [
  {
   "cell_type": "markdown",
   "source": [
    "# Tutorial on \"Graph Neural Networks from Scratch\""
   ],
   "metadata": {
    "collapsed": false
   },
   "id": "eec2840e28e31a1f"
  },
  {
   "cell_type": "markdown",
   "source": [
    "## 1. Loading the graph"
   ],
   "metadata": {
    "collapsed": false
   },
   "id": "f79eb9073fee68ca"
  },
  {
   "cell_type": "markdown",
   "source": [
    "We will use ... This is most popular ... It consists of ..."
   ],
   "metadata": {
    "collapsed": false
   },
   "id": "3310c4c2e1fc74f8"
  },
  {
   "cell_type": "code",
   "execution_count": null,
   "outputs": [],
   "source": [],
   "metadata": {
    "collapsed": false
   },
   "id": "c70298d10771e523"
  },
  {
   "cell_type": "code",
   "execution_count": null,
   "outputs": [],
   "source": [],
   "metadata": {
    "collapsed": false
   },
   "id": "dd123d0781aedd64"
  },
  {
   "cell_type": "code",
   "execution_count": null,
   "outputs": [],
   "source": [],
   "metadata": {
    "collapsed": false
   },
   "id": "7a005c7922269e3b"
  },
  {
   "cell_type": "markdown",
   "source": [
    "Now we can transform it to more usable format..."
   ],
   "metadata": {
    "collapsed": false
   },
   "id": "5ea879683765993c"
  },
  {
   "cell_type": "markdown",
   "source": [
    "## 2. Factorizing the adjacency matrix"
   ],
   "metadata": {
    "collapsed": false
   },
   "id": "e780cab9d56bb3aa"
  },
  {
   "cell_type": "markdown",
   "source": [
    "Why do we need to factorize the adjacency matrix? Something with message passing, video with description: [https://www.youtube.com/watch?v=ijmxpItkRjc]()"
   ],
   "metadata": {
    "collapsed": false
   },
   "id": "a5de479ce62505ab"
  },
  {
   "cell_type": "code",
   "execution_count": null,
   "outputs": [],
   "source": [],
   "metadata": {
    "collapsed": false
   },
   "id": "78986687deb0f8ae"
  },
  {
   "cell_type": "code",
   "execution_count": null,
   "outputs": [],
   "source": [],
   "metadata": {
    "collapsed": false
   },
   "id": "a241cbe3b13bdfcf"
  },
  {
   "cell_type": "markdown",
   "source": [
    "After that step is done, we can move on to model..."
   ],
   "metadata": {
    "collapsed": false
   },
   "id": "df7ebc84631702bf"
  },
  {
   "cell_type": "markdown",
   "source": [
    "## 3. Graph Convolution Layer"
   ],
   "metadata": {
    "collapsed": false
   },
   "id": "c1105f6c159abcda"
  },
  {
   "cell_type": "code",
   "execution_count": null,
   "outputs": [],
   "source": [],
   "metadata": {
    "collapsed": false
   },
   "id": "bcaecaef69ee6796"
  },
  {
   "cell_type": "code",
   "execution_count": null,
   "outputs": [],
   "source": [],
   "metadata": {
    "collapsed": false
   },
   "id": "67639fb1f86ca899"
  }
 ],
 "metadata": {
  "kernelspec": {
   "display_name": "Python 3",
   "language": "python",
   "name": "python3"
  },
  "language_info": {
   "codemirror_mode": {
    "name": "ipython",
    "version": 2
   },
   "file_extension": ".py",
   "mimetype": "text/x-python",
   "name": "python",
   "nbconvert_exporter": "python",
   "pygments_lexer": "ipython2",
   "version": "2.7.6"
  }
 },
 "nbformat": 4,
 "nbformat_minor": 5
}
